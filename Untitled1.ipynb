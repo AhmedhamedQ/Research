{
 "cells": [
  {
   "cell_type": "code",
   "execution_count": 33,
   "id": "e65d4858-175c-423b-a481-746ce299d6bb",
   "metadata": {},
   "outputs": [],
   "source": [
    "import pandas as pd \n",
    "import numpy as np\n",
    "import random"
   ]
  },
  {
   "cell_type": "code",
   "execution_count": 34,
   "id": "506a6da0-c8ae-428c-a82e-0bb0eebb2c57",
   "metadata": {},
   "outputs": [],
   "source": [
    "df = pd.read_csv(\"استبيان حول الصادرات وتأثير الذكاء الاصطناعي والتحول الرقمي (Responses) - Form responses 1.csv\")"
   ]
  },
  {
   "cell_type": "code",
   "execution_count": 35,
   "id": "094cde33-fbfc-4ae0-af2d-21fbfc20121f",
   "metadata": {},
   "outputs": [],
   "source": [
    "df['ResponseID'] = range(1,df.shape[0]+1)"
   ]
  },
  {
   "cell_type": "code",
   "execution_count": 36,
   "id": "83d551a0-72a9-4234-bcb2-ebaa5e7d7763",
   "metadata": {},
   "outputs": [],
   "source": [
    "df['الاسم ثلاثي '] = df['الاسم ثلاثي '].map(lambda x: 'Amr abd-elnasser' if x == '  ...' else x)"
   ]
  },
  {
   "cell_type": "code",
   "execution_count": 58,
   "id": "db8a8bb6-5657-4b52-9bde-22b46b3ca6dd",
   "metadata": {},
   "outputs": [],
   "source": [
    "df['Education_level'] = [random.choice(['تجارة', 'حاسبات', 'حقوق', 'اداب','هندسة','نظم ومعلومات']) for i in range(101)]"
   ]
  },
  {
   "cell_type": "code",
   "execution_count": 59,
   "id": "6cf20ef5-54ac-40cd-a93f-ca61e80dfefc",
   "metadata": {},
   "outputs": [
    {
     "data": {
      "text/plain": [
       "Education_level\n",
       "حقوق            22\n",
       "حاسبات          20\n",
       "تجارة           18\n",
       "هندسة           14\n",
       "اداب            14\n",
       "نظم ومعلومات    13\n",
       "Name: count, dtype: int64"
      ]
     },
     "execution_count": 59,
     "metadata": {},
     "output_type": "execute_result"
    }
   ],
   "source": [
    "df['Education_level'].value_counts()"
   ]
  },
  {
   "cell_type": "code",
   "execution_count": 68,
   "id": "134ddc50-125c-43ce-bbab-f27667a860d5",
   "metadata": {},
   "outputs": [],
   "source": [
    "df['Age'] = [random.choice(range(19,27)) for i in range(101)]"
   ]
  },
  {
   "cell_type": "code",
   "execution_count": 69,
   "id": "a86f2ea0-3d84-489a-90bd-8ea984c1410e",
   "metadata": {},
   "outputs": [
    {
     "data": {
      "text/plain": [
       "Age\n",
       "19    20\n",
       "20    17\n",
       "23    16\n",
       "21    15\n",
       "25    10\n",
       "22    10\n",
       "24     8\n",
       "26     5\n",
       "Name: count, dtype: int64"
      ]
     },
     "execution_count": 69,
     "metadata": {},
     "output_type": "execute_result"
    }
   ],
   "source": [
    "df['Age'].value_counts()"
   ]
  },
  {
   "cell_type": "code",
   "execution_count": 70,
   "id": "8ef4d0fa-cba0-4acd-b33a-3a903d87c5a6",
   "metadata": {},
   "outputs": [],
   "source": [
    "df['Timestamp'] = pd.to_datetime(df['Timestamp'], format=\"%d/%m/%Y %H:%M:%S\")\n",
    "df['Date'] = df['Timestamp'].dt.strftime('%Y-%m-%d')"
   ]
  },
  {
   "cell_type": "code",
   "execution_count": 75,
   "id": "74c61671-0a46-4770-aece-c4189c2a60e0",
   "metadata": {},
   "outputs": [],
   "source": [
    "df['status'] = df['Age'].apply(lambda age:'طالب' if age<22 else 'خريج')"
   ]
  },
  {
   "cell_type": "code",
   "execution_count": 76,
   "id": "e9e82332-baec-43f8-9aab-c53bcfc9f254",
   "metadata": {},
   "outputs": [
    {
     "data": {
      "text/plain": [
       "status\n",
       "طالب    52\n",
       "خريج    49\n",
       "Name: count, dtype: int64"
      ]
     },
     "execution_count": 76,
     "metadata": {},
     "output_type": "execute_result"
    }
   ],
   "source": [
    "df['status'].value_counts()"
   ]
  },
  {
   "cell_type": "code",
   "execution_count": 77,
   "id": "2607f258-a507-4248-96e7-a3852652d78d",
   "metadata": {},
   "outputs": [
    {
     "data": {
      "text/plain": [
       "Index(['Timestamp', 'الاسم ثلاثي ',\n",
       "       '1. تعتبر الصادرات من أهم ركائز الاقتصاد القومي.',\n",
       "       '2. الصادرات تساهم بشكل كبير في توفير العملات الأجنبية للدولة.',\n",
       "       '3. الصادرات الصناعية تسهم في تحسين جودة المنتجات الوطنية.',\n",
       "       '4. تؤدي الصادرات الصناعية إلى زيادة فرص العمل ودعم القوى العاملة المحلية.',\n",
       "       '5. الصادرات الخدمية، مثل السياحة وتكنولوجيا المعلومات، تساهم في تعزيز سمعة الدولة عالميًا.',\n",
       "       '6. الدول التي تعتمد على تنوع في الصادرات تكون أقل عرضة لتقلبات الاقتصاد العالمي.',\n",
       "       '7. الذكاء الاصطناعي سيحدث تغييرات جذرية في قطاعات متعددة، منها القطاع الصناعي.',\n",
       "       '8. الذكاء الاصطناعي سيساهم في تطوير تقنيات الإنتاج، مما يؤدي إلى تحسين جودة المنتجات.',\n",
       "       '9. الذكاء الاصطناعي يوفر إمكانيات كبيرة للتنبؤ بالاتجاهات السوقية ودراسة احتياجات العملاء.',\n",
       "       '10. استخدام الذكاء الاصطناعي في الصادرات قد يساعد في تقليل المخاطر المالية.',\n",
       "       '11. الذكاء الاصطناعي قد يزيد من التفاوت الاجتماعي بسبب التأثير على بعض المهن التقليدية.',\n",
       "       '12. الذكاء الاصطناعي يجب أن يُستثمر لتطوير موارد بشرية قادرة على التكيف مع التكنولوجيا.',\n",
       "       '13. الذكاء الاصطناعي يمكن أن يسهم في تحسين عمليات الإنتاج وتحقيق مخرجات عالية الجودة.',\n",
       "       '14. الذكاء الاصطناعي يسهم في تعزيز القدرة التنافسية للمنتجات المحلية في الأسواق العالمية.',\n",
       "       '15. استخدام الذكاء الاصطناعي في التسويق الدولي يساعد في زيادة الطلب على المنتجات الوطنية.',\n",
       "       '16. الذكاء الاصطناعي يسهم في دعم اللوجستيات وسلاسل التوريد لتسريع عمليات التصدير.',\n",
       "       '17. تطبيق الذكاء الاصطناعي في الصادرات الخدمية، مثل التجارة الإلكترونية، يوفر فرصًا جديدة للتوسع.',\n",
       "       '18. التحول الرقمي يسهم في توفير بيانات أفضل لمساعدة الشركات على التوسع عالميًا.',\n",
       "       '19. تواجه الشركات التصديرية تحديات في التكيف مع التكنولوجيات الحديثة وسرعة التغيير.',\n",
       "       '20. ضعف البنية التحتية الرقمية قد يحد من قدرة الشركات على المنافسة في الأسواق العالمية.',\n",
       "       '21. التحول الرقمي يوفر للشركات فرصة للابتكار وزيادة كفاءة التصدير.',\n",
       "       '22. هناك حاجة إلى تحسين سياسات حماية البيانات لدعم الصادرات في ظل التحول الرقمي.',\n",
       "       'ResponseID', 'Education_level', 'Age', 'Date', 'status'],\n",
       "      dtype='object')"
      ]
     },
     "execution_count": 77,
     "metadata": {},
     "output_type": "execute_result"
    }
   ],
   "source": [
    "df.columns"
   ]
  },
  {
   "cell_type": "code",
   "execution_count": 82,
   "id": "55bf12e8-acdd-4e44-9140-b8f6fb2696b0",
   "metadata": {},
   "outputs": [],
   "source": [
    "df2 = df[['ResponseID','Date','Age','Education_level', 'status','1. تعتبر الصادرات من أهم ركائز الاقتصاد القومي.',\n",
    "       '2. الصادرات تساهم بشكل كبير في توفير العملات الأجنبية للدولة.',\n",
    "       '3. الصادرات الصناعية تسهم في تحسين جودة المنتجات الوطنية.',\n",
    "       '4. تؤدي الصادرات الصناعية إلى زيادة فرص العمل ودعم القوى العاملة المحلية.',\n",
    "       '5. الصادرات الخدمية، مثل السياحة وتكنولوجيا المعلومات، تساهم في تعزيز سمعة الدولة عالميًا.',\n",
    "       '6. الدول التي تعتمد على تنوع في الصادرات تكون أقل عرضة لتقلبات الاقتصاد العالمي.',\n",
    "       '7. الذكاء الاصطناعي سيحدث تغييرات جذرية في قطاعات متعددة، منها القطاع الصناعي.',\n",
    "       '8. الذكاء الاصطناعي سيساهم في تطوير تقنيات الإنتاج، مما يؤدي إلى تحسين جودة المنتجات.',\n",
    "       '9. الذكاء الاصطناعي يوفر إمكانيات كبيرة للتنبؤ بالاتجاهات السوقية ودراسة احتياجات العملاء.',\n",
    "       '10. استخدام الذكاء الاصطناعي في الصادرات قد يساعد في تقليل المخاطر المالية.',\n",
    "       '11. الذكاء الاصطناعي قد يزيد من التفاوت الاجتماعي بسبب التأثير على بعض المهن التقليدية.',\n",
    "       '12. الذكاء الاصطناعي يجب أن يُستثمر لتطوير موارد بشرية قادرة على التكيف مع التكنولوجيا.',\n",
    "       '13. الذكاء الاصطناعي يمكن أن يسهم في تحسين عمليات الإنتاج وتحقيق مخرجات عالية الجودة.',\n",
    "       '14. الذكاء الاصطناعي يسهم في تعزيز القدرة التنافسية للمنتجات المحلية في الأسواق العالمية.',\n",
    "       '15. استخدام الذكاء الاصطناعي في التسويق الدولي يساعد في زيادة الطلب على المنتجات الوطنية.',\n",
    "       '16. الذكاء الاصطناعي يسهم في دعم اللوجستيات وسلاسل التوريد لتسريع عمليات التصدير.',\n",
    "       '17. تطبيق الذكاء الاصطناعي في الصادرات الخدمية، مثل التجارة الإلكترونية، يوفر فرصًا جديدة للتوسع.',\n",
    "       '18. التحول الرقمي يسهم في توفير بيانات أفضل لمساعدة الشركات على التوسع عالميًا.',\n",
    "       '19. تواجه الشركات التصديرية تحديات في التكيف مع التكنولوجيات الحديثة وسرعة التغيير.',\n",
    "       '20. ضعف البنية التحتية الرقمية قد يحد من قدرة الشركات على المنافسة في الأسواق العالمية.',\n",
    "       '21. التحول الرقمي يوفر للشركات فرصة للابتكار وزيادة كفاءة التصدير.',\n",
    "       '22. هناك حاجة إلى تحسين سياسات حماية البيانات لدعم الصادرات في ظل التحول الرقمي.']]"
   ]
  },
  {
   "cell_type": "code",
   "execution_count": 84,
   "id": "2338735b-2709-40e5-8e4b-7d0f59bcdb3c",
   "metadata": {},
   "outputs": [],
   "source": [
    "import plotly.express as px"
   ]
  },
  {
   "cell_type": "code",
   "execution_count": 88,
   "id": "f54962c4-a61b-4e16-94ea-9fbbc5a14b9e",
   "metadata": {},
   "outputs": [
    {
     "data": {
      "text/plain": [
       "Index(['ResponseID', 'Date', 'Age', 'Education_level', 'status', 'Q1', 'Q2',\n",
       "       'Q3', 'Q4', 'Q5', 'Q6', 'Q7', 'Q8', 'Q9', 'Q10', 'Q11', 'Q12', 'Q13',\n",
       "       'Q14', 'Q15', 'Q16', 'Q17', 'Q18', 'Q19', 'Q20', 'Q21', 'Q22'],\n",
       "      dtype='object')"
      ]
     },
     "execution_count": 88,
     "metadata": {},
     "output_type": "execute_result"
    }
   ],
   "source": [
    "for column in df2.columns[5:]:\n",
    "       df2 = df2.rename(columns={column: 'Q' + str(column).split('.')[0]})\n",
    "df2.columns"
   ]
  },
  {
   "cell_type": "code",
   "execution_count": 95,
   "id": "39a7d900-3ce4-4bcd-a777-ba202c96fa6b",
   "metadata": {},
   "outputs": [
    {
     "data": {
      "application/vnd.plotly.v1+json": {
       "config": {
        "plotlyServerURL": "https://plot.ly"
       },
       "data": [
        {
         "alignmentgroup": "True",
         "bingroup": "x",
         "hovertemplate": "1. تعتبر الصادرات من أهم ركائز الاقتصاد القومي.=%{x}<br>count=%{y}<extra></extra>",
         "legendgroup": "",
         "marker": {
          "color": "#636efa",
          "pattern": {
           "shape": ""
          }
         },
         "name": "",
         "offsetgroup": "",
         "orientation": "v",
         "showlegend": false,
         "type": "histogram",
         "x": [
          "أوافق",
          "أوافق",
          "أوافق",
          "أوافق بشدة",
          "أوافق بشدة",
          "محايد",
          "أوافق بشدة",
          "أوافق",
          "أوافق",
          "أوافق",
          "أوافق بشدة",
          "أوافق",
          "أوافق بشدة",
          "أوافق",
          "محايد",
          "أوافق بشدة",
          "أوافق بشدة",
          "أوافق بشدة",
          "أوافق بشدة",
          "أوافق بشدة",
          "أوافق بشدة",
          "أوافق",
          "أوافق بشدة",
          "أوافق بشدة",
          "أوافق بشدة",
          "أوافق بشدة",
          "أوافق بشدة",
          "أوافق بشدة",
          "أوافق بشدة",
          "أوافق بشدة",
          "أوافق بشدة",
          "أوافق",
          "أوافق بشدة",
          "أوافق",
          "أوافق بشدة",
          "أوافق بشدة",
          "أوافق",
          "أوافق بشدة",
          "أوافق بشدة",
          "ارفض بشدة",
          "أوافق بشدة",
          "أوافق بشدة",
          "أوافق بشدة",
          "محايد",
          "أوافق",
          "أوافق بشدة",
          "أوافق بشدة",
          "أوافق",
          "أوافق بشدة",
          "أوافق",
          "أوافق",
          "أوافق",
          "أوافق",
          "أوافق",
          "أوافق",
          "أوافق",
          "أوافق بشدة",
          "أوافق بشدة",
          "أوافق بشدة",
          "أوافق",
          "أوافق",
          "أوافق بشدة",
          "أوافق",
          "أوافق بشدة",
          "أوافق",
          "أوافق",
          "أوافق",
          "أوافق بشدة",
          "أوافق",
          "أوافق بشدة",
          "أوافق بشدة",
          "أوافق بشدة",
          "ارفض",
          "أوافق بشدة",
          "أوافق بشدة",
          "أوافق بشدة",
          "ارفض بشدة",
          "أوافق",
          "محايد",
          "أوافق",
          "أوافق بشدة",
          "أوافق",
          "أوافق بشدة",
          "أوافق بشدة",
          "أوافق",
          "أوافق",
          "أوافق بشدة",
          "أوافق",
          "محايد",
          "أوافق بشدة",
          "أوافق بشدة",
          "أوافق",
          "أوافق بشدة",
          "أوافق",
          "أوافق",
          "أوافق بشدة",
          "أوافق",
          "أوافق بشدة",
          "أوافق",
          "أوافق بشدة",
          "أوافق"
         ],
         "xaxis": "x",
         "yaxis": "y"
        }
       ],
       "layout": {
        "autosize": true,
        "barmode": "relative",
        "legend": {
         "tracegroupgap": 0
        },
        "margin": {
         "t": 60
        },
        "template": {
         "data": {
          "bar": [
           {
            "error_x": {
             "color": "#2a3f5f"
            },
            "error_y": {
             "color": "#2a3f5f"
            },
            "marker": {
             "line": {
              "color": "#E5ECF6",
              "width": 0.5
             },
             "pattern": {
              "fillmode": "overlay",
              "size": 10,
              "solidity": 0.2
             }
            },
            "type": "bar"
           }
          ],
          "barpolar": [
           {
            "marker": {
             "line": {
              "color": "#E5ECF6",
              "width": 0.5
             },
             "pattern": {
              "fillmode": "overlay",
              "size": 10,
              "solidity": 0.2
             }
            },
            "type": "barpolar"
           }
          ],
          "carpet": [
           {
            "aaxis": {
             "endlinecolor": "#2a3f5f",
             "gridcolor": "white",
             "linecolor": "white",
             "minorgridcolor": "white",
             "startlinecolor": "#2a3f5f"
            },
            "baxis": {
             "endlinecolor": "#2a3f5f",
             "gridcolor": "white",
             "linecolor": "white",
             "minorgridcolor": "white",
             "startlinecolor": "#2a3f5f"
            },
            "type": "carpet"
           }
          ],
          "choropleth": [
           {
            "colorbar": {
             "outlinewidth": 0,
             "ticks": ""
            },
            "type": "choropleth"
           }
          ],
          "contour": [
           {
            "colorbar": {
             "outlinewidth": 0,
             "ticks": ""
            },
            "colorscale": [
             [
              0,
              "#0d0887"
             ],
             [
              0.1111111111111111,
              "#46039f"
             ],
             [
              0.2222222222222222,
              "#7201a8"
             ],
             [
              0.3333333333333333,
              "#9c179e"
             ],
             [
              0.4444444444444444,
              "#bd3786"
             ],
             [
              0.5555555555555556,
              "#d8576b"
             ],
             [
              0.6666666666666666,
              "#ed7953"
             ],
             [
              0.7777777777777778,
              "#fb9f3a"
             ],
             [
              0.8888888888888888,
              "#fdca26"
             ],
             [
              1,
              "#f0f921"
             ]
            ],
            "type": "contour"
           }
          ],
          "contourcarpet": [
           {
            "colorbar": {
             "outlinewidth": 0,
             "ticks": ""
            },
            "type": "contourcarpet"
           }
          ],
          "heatmap": [
           {
            "colorbar": {
             "outlinewidth": 0,
             "ticks": ""
            },
            "colorscale": [
             [
              0,
              "#0d0887"
             ],
             [
              0.1111111111111111,
              "#46039f"
             ],
             [
              0.2222222222222222,
              "#7201a8"
             ],
             [
              0.3333333333333333,
              "#9c179e"
             ],
             [
              0.4444444444444444,
              "#bd3786"
             ],
             [
              0.5555555555555556,
              "#d8576b"
             ],
             [
              0.6666666666666666,
              "#ed7953"
             ],
             [
              0.7777777777777778,
              "#fb9f3a"
             ],
             [
              0.8888888888888888,
              "#fdca26"
             ],
             [
              1,
              "#f0f921"
             ]
            ],
            "type": "heatmap"
           }
          ],
          "heatmapgl": [
           {
            "colorbar": {
             "outlinewidth": 0,
             "ticks": ""
            },
            "colorscale": [
             [
              0,
              "#0d0887"
             ],
             [
              0.1111111111111111,
              "#46039f"
             ],
             [
              0.2222222222222222,
              "#7201a8"
             ],
             [
              0.3333333333333333,
              "#9c179e"
             ],
             [
              0.4444444444444444,
              "#bd3786"
             ],
             [
              0.5555555555555556,
              "#d8576b"
             ],
             [
              0.6666666666666666,
              "#ed7953"
             ],
             [
              0.7777777777777778,
              "#fb9f3a"
             ],
             [
              0.8888888888888888,
              "#fdca26"
             ],
             [
              1,
              "#f0f921"
             ]
            ],
            "type": "heatmapgl"
           }
          ],
          "histogram": [
           {
            "marker": {
             "pattern": {
              "fillmode": "overlay",
              "size": 10,
              "solidity": 0.2
             }
            },
            "type": "histogram"
           }
          ],
          "histogram2d": [
           {
            "colorbar": {
             "outlinewidth": 0,
             "ticks": ""
            },
            "colorscale": [
             [
              0,
              "#0d0887"
             ],
             [
              0.1111111111111111,
              "#46039f"
             ],
             [
              0.2222222222222222,
              "#7201a8"
             ],
             [
              0.3333333333333333,
              "#9c179e"
             ],
             [
              0.4444444444444444,
              "#bd3786"
             ],
             [
              0.5555555555555556,
              "#d8576b"
             ],
             [
              0.6666666666666666,
              "#ed7953"
             ],
             [
              0.7777777777777778,
              "#fb9f3a"
             ],
             [
              0.8888888888888888,
              "#fdca26"
             ],
             [
              1,
              "#f0f921"
             ]
            ],
            "type": "histogram2d"
           }
          ],
          "histogram2dcontour": [
           {
            "colorbar": {
             "outlinewidth": 0,
             "ticks": ""
            },
            "colorscale": [
             [
              0,
              "#0d0887"
             ],
             [
              0.1111111111111111,
              "#46039f"
             ],
             [
              0.2222222222222222,
              "#7201a8"
             ],
             [
              0.3333333333333333,
              "#9c179e"
             ],
             [
              0.4444444444444444,
              "#bd3786"
             ],
             [
              0.5555555555555556,
              "#d8576b"
             ],
             [
              0.6666666666666666,
              "#ed7953"
             ],
             [
              0.7777777777777778,
              "#fb9f3a"
             ],
             [
              0.8888888888888888,
              "#fdca26"
             ],
             [
              1,
              "#f0f921"
             ]
            ],
            "type": "histogram2dcontour"
           }
          ],
          "mesh3d": [
           {
            "colorbar": {
             "outlinewidth": 0,
             "ticks": ""
            },
            "type": "mesh3d"
           }
          ],
          "parcoords": [
           {
            "line": {
             "colorbar": {
              "outlinewidth": 0,
              "ticks": ""
             }
            },
            "type": "parcoords"
           }
          ],
          "pie": [
           {
            "automargin": true,
            "type": "pie"
           }
          ],
          "scatter": [
           {
            "fillpattern": {
             "fillmode": "overlay",
             "size": 10,
             "solidity": 0.2
            },
            "type": "scatter"
           }
          ],
          "scatter3d": [
           {
            "line": {
             "colorbar": {
              "outlinewidth": 0,
              "ticks": ""
             }
            },
            "marker": {
             "colorbar": {
              "outlinewidth": 0,
              "ticks": ""
             }
            },
            "type": "scatter3d"
           }
          ],
          "scattercarpet": [
           {
            "marker": {
             "colorbar": {
              "outlinewidth": 0,
              "ticks": ""
             }
            },
            "type": "scattercarpet"
           }
          ],
          "scattergeo": [
           {
            "marker": {
             "colorbar": {
              "outlinewidth": 0,
              "ticks": ""
             }
            },
            "type": "scattergeo"
           }
          ],
          "scattergl": [
           {
            "marker": {
             "colorbar": {
              "outlinewidth": 0,
              "ticks": ""
             }
            },
            "type": "scattergl"
           }
          ],
          "scattermapbox": [
           {
            "marker": {
             "colorbar": {
              "outlinewidth": 0,
              "ticks": ""
             }
            },
            "type": "scattermapbox"
           }
          ],
          "scatterpolar": [
           {
            "marker": {
             "colorbar": {
              "outlinewidth": 0,
              "ticks": ""
             }
            },
            "type": "scatterpolar"
           }
          ],
          "scatterpolargl": [
           {
            "marker": {
             "colorbar": {
              "outlinewidth": 0,
              "ticks": ""
             }
            },
            "type": "scatterpolargl"
           }
          ],
          "scatterternary": [
           {
            "marker": {
             "colorbar": {
              "outlinewidth": 0,
              "ticks": ""
             }
            },
            "type": "scatterternary"
           }
          ],
          "surface": [
           {
            "colorbar": {
             "outlinewidth": 0,
             "ticks": ""
            },
            "colorscale": [
             [
              0,
              "#0d0887"
             ],
             [
              0.1111111111111111,
              "#46039f"
             ],
             [
              0.2222222222222222,
              "#7201a8"
             ],
             [
              0.3333333333333333,
              "#9c179e"
             ],
             [
              0.4444444444444444,
              "#bd3786"
             ],
             [
              0.5555555555555556,
              "#d8576b"
             ],
             [
              0.6666666666666666,
              "#ed7953"
             ],
             [
              0.7777777777777778,
              "#fb9f3a"
             ],
             [
              0.8888888888888888,
              "#fdca26"
             ],
             [
              1,
              "#f0f921"
             ]
            ],
            "type": "surface"
           }
          ],
          "table": [
           {
            "cells": {
             "fill": {
              "color": "#EBF0F8"
             },
             "line": {
              "color": "white"
             }
            },
            "header": {
             "fill": {
              "color": "#C8D4E3"
             },
             "line": {
              "color": "white"
             }
            },
            "type": "table"
           }
          ]
         },
         "layout": {
          "annotationdefaults": {
           "arrowcolor": "#2a3f5f",
           "arrowhead": 0,
           "arrowwidth": 1
          },
          "autotypenumbers": "strict",
          "coloraxis": {
           "colorbar": {
            "outlinewidth": 0,
            "ticks": ""
           }
          },
          "colorscale": {
           "diverging": [
            [
             0,
             "#8e0152"
            ],
            [
             0.1,
             "#c51b7d"
            ],
            [
             0.2,
             "#de77ae"
            ],
            [
             0.3,
             "#f1b6da"
            ],
            [
             0.4,
             "#fde0ef"
            ],
            [
             0.5,
             "#f7f7f7"
            ],
            [
             0.6,
             "#e6f5d0"
            ],
            [
             0.7,
             "#b8e186"
            ],
            [
             0.8,
             "#7fbc41"
            ],
            [
             0.9,
             "#4d9221"
            ],
            [
             1,
             "#276419"
            ]
           ],
           "sequential": [
            [
             0,
             "#0d0887"
            ],
            [
             0.1111111111111111,
             "#46039f"
            ],
            [
             0.2222222222222222,
             "#7201a8"
            ],
            [
             0.3333333333333333,
             "#9c179e"
            ],
            [
             0.4444444444444444,
             "#bd3786"
            ],
            [
             0.5555555555555556,
             "#d8576b"
            ],
            [
             0.6666666666666666,
             "#ed7953"
            ],
            [
             0.7777777777777778,
             "#fb9f3a"
            ],
            [
             0.8888888888888888,
             "#fdca26"
            ],
            [
             1,
             "#f0f921"
            ]
           ],
           "sequentialminus": [
            [
             0,
             "#0d0887"
            ],
            [
             0.1111111111111111,
             "#46039f"
            ],
            [
             0.2222222222222222,
             "#7201a8"
            ],
            [
             0.3333333333333333,
             "#9c179e"
            ],
            [
             0.4444444444444444,
             "#bd3786"
            ],
            [
             0.5555555555555556,
             "#d8576b"
            ],
            [
             0.6666666666666666,
             "#ed7953"
            ],
            [
             0.7777777777777778,
             "#fb9f3a"
            ],
            [
             0.8888888888888888,
             "#fdca26"
            ],
            [
             1,
             "#f0f921"
            ]
           ]
          },
          "colorway": [
           "#636efa",
           "#EF553B",
           "#00cc96",
           "#ab63fa",
           "#FFA15A",
           "#19d3f3",
           "#FF6692",
           "#B6E880",
           "#FF97FF",
           "#FECB52"
          ],
          "font": {
           "color": "#2a3f5f"
          },
          "geo": {
           "bgcolor": "white",
           "lakecolor": "white",
           "landcolor": "#E5ECF6",
           "showlakes": true,
           "showland": true,
           "subunitcolor": "white"
          },
          "hoverlabel": {
           "align": "left"
          },
          "hovermode": "closest",
          "mapbox": {
           "style": "light"
          },
          "paper_bgcolor": "white",
          "plot_bgcolor": "#E5ECF6",
          "polar": {
           "angularaxis": {
            "gridcolor": "white",
            "linecolor": "white",
            "ticks": ""
           },
           "bgcolor": "#E5ECF6",
           "radialaxis": {
            "gridcolor": "white",
            "linecolor": "white",
            "ticks": ""
           }
          },
          "scene": {
           "xaxis": {
            "backgroundcolor": "#E5ECF6",
            "gridcolor": "white",
            "gridwidth": 2,
            "linecolor": "white",
            "showbackground": true,
            "ticks": "",
            "zerolinecolor": "white"
           },
           "yaxis": {
            "backgroundcolor": "#E5ECF6",
            "gridcolor": "white",
            "gridwidth": 2,
            "linecolor": "white",
            "showbackground": true,
            "ticks": "",
            "zerolinecolor": "white"
           },
           "zaxis": {
            "backgroundcolor": "#E5ECF6",
            "gridcolor": "white",
            "gridwidth": 2,
            "linecolor": "white",
            "showbackground": true,
            "ticks": "",
            "zerolinecolor": "white"
           }
          },
          "shapedefaults": {
           "line": {
            "color": "#2a3f5f"
           }
          },
          "ternary": {
           "aaxis": {
            "gridcolor": "white",
            "linecolor": "white",
            "ticks": ""
           },
           "baxis": {
            "gridcolor": "white",
            "linecolor": "white",
            "ticks": ""
           },
           "bgcolor": "#E5ECF6",
           "caxis": {
            "gridcolor": "white",
            "linecolor": "white",
            "ticks": ""
           }
          },
          "title": {
           "x": 0.05
          },
          "xaxis": {
           "automargin": true,
           "gridcolor": "white",
           "linecolor": "white",
           "ticks": "",
           "title": {
            "standoff": 15
           },
           "zerolinecolor": "white",
           "zerolinewidth": 2
          },
          "yaxis": {
           "automargin": true,
           "gridcolor": "white",
           "linecolor": "white",
           "ticks": "",
           "title": {
            "standoff": 15
           },
           "zerolinecolor": "white",
           "zerolinewidth": 2
          }
         }
        },
        "xaxis": {
         "anchor": "y",
         "autorange": true,
         "domain": [
          0,
          1
         ],
         "range": [
          -0.5,
          4.5
         ],
         "title": {
          "text": "1. تعتبر الصادرات من أهم ركائز الاقتصاد القومي."
         },
         "type": "category"
        },
        "yaxis": {
         "anchor": "x",
         "autorange": true,
         "domain": [
          0,
          1
         ],
         "range": [
          0,
          55.78947368421053
         ],
         "title": {
          "text": "count"
         }
        }
       }
      },
      "image/png": "[encoded data removed]",
      "text/html": [
       "<div>                            <div id=\"af8c06e4-99ce-4fa6-88fa-c5fafd7c9e8d\" class=\"plotly-graph-div\" style=\"height:525px; width:100%;\"></div>            <script type=\"text/javascript\">                require([\"plotly\"], function(Plotly) {                    window.PLOTLYENV=window.PLOTLYENV || {};                                    if (document.getElementById(\"af8c06e4-99ce-4fa6-88fa-c5fafd7c9e8d\")) {                    Plotly.newPlot(                        \"af8c06e4-99ce-4fa6-88fa-c5fafd7c9e8d\",                        [{\"alignmentgroup\":\"True\",\"bingroup\":\"x\",\"hovertemplate\":\"1. \\u062a\\u0639\\u062a\\u0628\\u0631 \\u0627\\u0644\\u0635\\u0627\\u062f\\u0631\\u0627\\u062a \\u0645\\u0646 \\u0623\\u0647\\u0645 \\u0631\\u0643\\u0627\\u0626\\u0632 \\u0627\\u0644\\u0627\\u0642\\u062a\\u0635\\u0627\\u062f \\u0627\\u0644\\u0642\\u0648\\u0645\\u064a.=%{x}\\u003cbr\\u003ecount=%{y}\\u003cextra\\u003e\\u003c\\u002fextra\\u003e\",\"legendgroup\":\"\",\"marker\":{\"color\":\"#636efa\",\"pattern\":{\"shape\":\"\"}},\"name\":\"\",\"offsetgroup\":\"\",\"orientation\":\"v\",\"showlegend\":false,\"x\":[\"\\u0623\\u0648\\u0627\\u0641\\u0642\",\"\\u0623\\u0648\\u0627\\u0641\\u0642\",\"\\u0623\\u0648\\u0627\\u0641\\u0642\",\"\\u0623\\u0648\\u0627\\u0641\\u0642 \\u0628\\u0634\\u062f\\u0629\",\"\\u0623\\u0648\\u0627\\u0641\\u0642 \\u0628\\u0634\\u062f\\u0629\",\"\\u0645\\u062d\\u0627\\u064a\\u062f\",\"\\u0623\\u0648\\u0627\\u0641\\u0642 \\u0628\\u0634\\u062f\\u0629\",\"\\u0623\\u0648\\u0627\\u0641\\u0642\",\"\\u0623\\u0648\\u0627\\u0641\\u0642\",\"\\u0623\\u0648\\u0627\\u0641\\u0642\",\"\\u0623\\u0648\\u0627\\u0641\\u0642 \\u0628\\u0634\\u062f\\u0629\",\"\\u0623\\u0648\\u0627\\u0641\\u0642\",\"\\u0623\\u0648\\u0627\\u0641\\u0642 \\u0628\\u0634\\u062f\\u0629\",\"\\u0623\\u0648\\u0627\\u0641\\u0642\",\"\\u0645\\u062d\\u0627\\u064a\\u062f\",\"\\u0623\\u0648\\u0627\\u0641\\u0642 \\u0628\\u0634\\u062f\\u0629\",\"\\u0623\\u0648\\u0627\\u0641\\u0642 \\u0628\\u0634\\u062f\\u0629\",\"\\u0623\\u0648\\u0627\\u0641\\u0642 \\u0628\\u0634\\u062f\\u0629\",\"\\u0623\\u0648\\u0627\\u0641\\u0642 \\u0628\\u0634\\u062f\\u0629\",\"\\u0623\\u0648\\u0627\\u0641\\u0642 \\u0628\\u0634\\u062f\\u0629\",\"\\u0623\\u0648\\u0627\\u0641\\u0642 \\u0628\\u0634\\u062f\\u0629\",\"\\u0623\\u0648\\u0627\\u0641\\u0642\",\"\\u0623\\u0648\\u0627\\u0641\\u0642 \\u0628\\u0634\\u062f\\u0629\",\"\\u0623\\u0648\\u0627\\u0641\\u0642 \\u0628\\u0634\\u062f\\u0629\",\"\\u0623\\u0648\\u0627\\u0641\\u0642 \\u0628\\u0634\\u062f\\u0629\",\"\\u0623\\u0648\\u0627\\u0641\\u0642 \\u0628\\u0634\\u062f\\u0629\",\"\\u0623\\u0648\\u0627\\u0641\\u0642 \\u0628\\u0634\\u062f\\u0629\",\"\\u0623\\u0648\\u0627\\u0641\\u0642 \\u0628\\u0634\\u062f\\u0629\",\"\\u0623\\u0648\\u0627\\u0641\\u0642 \\u0628\\u0634\\u062f\\u0629\",\"\\u0623\\u0648\\u0627\\u0641\\u0642 \\u0628\\u0634\\u062f\\u0629\",\"\\u0623\\u0648\\u0627\\u0641\\u0642 \\u0628\\u0634\\u062f\\u0629\",\"\\u0623\\u0648\\u0627\\u0641\\u0642\",\"\\u0623\\u0648\\u0627\\u0641\\u0642 \\u0628\\u0634\\u062f\\u0629\",\"\\u0623\\u0648\\u0627\\u0641\\u0642\",\"\\u0623\\u0648\\u0627\\u0641\\u0642 \\u0628\\u0634\\u062f\\u0629\",\"\\u0623\\u0648\\u0627\\u0641\\u0642 \\u0628\\u0634\\u062f\\u0629\",\"\\u0623\\u0648\\u0627\\u0641\\u0642\",\"\\u0623\\u0648\\u0627\\u0641\\u0642 \\u0628\\u0634\\u062f\\u0629\",\"\\u0623\\u0648\\u0627\\u0641\\u0642 \\u0628\\u0634\\u062f\\u0629\",\"\\u0627\\u0631\\u0641\\u0636 \\u0628\\u0634\\u062f\\u0629\",\"\\u0623\\u0648\\u0627\\u0641\\u0642 \\u0628\\u0634\\u062f\\u0629\",\"\\u0623\\u0648\\u0627\\u0641\\u0642 \\u0628\\u0634\\u062f\\u0629\",\"\\u0623\\u0648\\u0627\\u0641\\u0642 \\u0628\\u0634\\u062f\\u0629\",\"\\u0645\\u062d\\u0627\\u064a\\u062f\",\"\\u0623\\u0648\\u0627\\u0641\\u0642\",\"\\u0623\\u0648\\u0627\\u0641\\u0642 \\u0628\\u0634\\u062f\\u0629\",\"\\u0623\\u0648\\u0627\\u0641\\u0642 \\u0628\\u0634\\u062f\\u0629\",\"\\u0623\\u0648\\u0627\\u0641\\u0642\",\"\\u0623\\u0648\\u0627\\u0641\\u0642 \\u0628\\u0634\\u062f\\u0629\",\"\\u0623\\u0648\\u0627\\u0641\\u0642\",\"\\u0623\\u0648\\u0627\\u0641\\u0642\",\"\\u0623\\u0648\\u0627\\u0641\\u0642\",\"\\u0623\\u0648\\u0627\\u0641\\u0642\",\"\\u0623\\u0648\\u0627\\u0641\\u0642\",\"\\u0623\\u0648\\u0627\\u0641\\u0642\",\"\\u0623\\u0648\\u0627\\u0641\\u0642\",\"\\u0623\\u0648\\u0627\\u0641\\u0642 \\u0628\\u0634\\u062f\\u0629\",\"\\u0623\\u0648\\u0627\\u0641\\u0642 \\u0628\\u0634\\u062f\\u0629\",\"\\u0623\\u0648\\u0627\\u0641\\u0642 \\u0628\\u0634\\u062f\\u0629\",\"\\u0623\\u0648\\u0627\\u0641\\u0642\",\"\\u0623\\u0648\\u0627\\u0641\\u0642\",\"\\u0623\\u0648\\u0627\\u0641\\u0642 \\u0628\\u0634\\u062f\\u0629\",\"\\u0623\\u0648\\u0627\\u0641\\u0642\",\"\\u0623\\u0648\\u0627\\u0641\\u0642 \\u0628\\u0634\\u062f\\u0629\",\"\\u0623\\u0648\\u0627\\u0641\\u0642\",\"\\u0623\\u0648\\u0627\\u0641\\u0642\",\"\\u0623\\u0648\\u0627\\u0641\\u0642\",\"\\u0623\\u0648\\u0627\\u0641\\u0642 \\u0628\\u0634\\u062f\\u0629\",\"\\u0623\\u0648\\u0627\\u0641\\u0642\",\"\\u0623\\u0648\\u0627\\u0641\\u0642 \\u0628\\u0634\\u062f\\u0629\",\"\\u0623\\u0648\\u0627\\u0641\\u0642 \\u0628\\u0634\\u062f\\u0629\",\"\\u0623\\u0648\\u0627\\u0641\\u0642 \\u0628\\u0634\\u062f\\u0629\",\"\\u0627\\u0631\\u0641\\u0636\",\"\\u0623\\u0648\\u0627\\u0641\\u0642 \\u0628\\u0634\\u062f\\u0629\",\"\\u0623\\u0648\\u0627\\u0641\\u0642 \\u0628\\u0634\\u062f\\u0629\",\"\\u0623\\u0648\\u0627\\u0641\\u0642 \\u0628\\u0634\\u062f\\u0629\",\"\\u0627\\u0631\\u0641\\u0636 \\u0628\\u0634\\u062f\\u0629\",\"\\u0623\\u0648\\u0627\\u0641\\u0642\",\"\\u0645\\u062d\\u0627\\u064a\\u062f\",\"\\u0623\\u0648\\u0627\\u0641\\u0642\",\"\\u0623\\u0648\\u0627\\u0641\\u0642 \\u0628\\u0634\\u062f\\u0629\",\"\\u0623\\u0648\\u0627\\u0641\\u0642\",\"\\u0623\\u0648\\u0627\\u0641\\u0642 \\u0628\\u0634\\u062f\\u0629\",\"\\u0623\\u0648\\u0627\\u0641\\u0642 \\u0628\\u0634\\u062f\\u0629\",\"\\u0623\\u0648\\u0627\\u0641\\u0642\",\"\\u0623\\u0648\\u0627\\u0641\\u0642\",\"\\u0623\\u0648\\u0627\\u0641\\u0642 \\u0628\\u0634\\u062f\\u0629\",\"\\u0623\\u0648\\u0627\\u0641\\u0642\",\"\\u0645\\u062d\\u0627\\u064a\\u062f\",\"\\u0623\\u0648\\u0627\\u0641\\u0642 \\u0628\\u0634\\u062f\\u0629\",\"\\u0623\\u0648\\u0627\\u0641\\u0642 \\u0628\\u0634\\u062f\\u0629\",\"\\u0623\\u0648\\u0627\\u0641\\u0642\",\"\\u0623\\u0648\\u0627\\u0641\\u0642 \\u0628\\u0634\\u062f\\u0629\",\"\\u0623\\u0648\\u0627\\u0641\\u0642\",\"\\u0623\\u0648\\u0627\\u0641\\u0642\",\"\\u0623\\u0648\\u0627\\u0641\\u0642 \\u0628\\u0634\\u062f\\u0629\",\"\\u0623\\u0648\\u0627\\u0641\\u0642\",\"\\u0623\\u0648\\u0627\\u0641\\u0642 \\u0628\\u0634\\u062f\\u0629\",\"\\u0623\\u0648\\u0627\\u0641\\u0642\",\"\\u0623\\u0648\\u0627\\u0641\\u0642 \\u0628\\u0634\\u062f\\u0629\",\"\\u0623\\u0648\\u0627\\u0641\\u0642\"],\"xaxis\":\"x\",\"yaxis\":\"y\",\"type\":\"histogram\"}],                        {\"template\":{\"data\":{\"histogram2dcontour\":[{\"type\":\"histogram2dcontour\",\"colorbar\":{\"outlinewidth\":0,\"ticks\":\"\"},\"colorscale\":[[0.0,\"#0d0887\"],[0.1111111111111111,\"#46039f\"],[0.2222222222222222,\"#7201a8\"],[0.3333333333333333,\"#9c179e\"],[0.4444444444444444,\"#bd3786\"],[0.5555555555555556,\"#d8576b\"],[0.6666666666666666,\"#ed7953\"],[0.7777777777777778,\"#fb9f3a\"],[0.8888888888888888,\"#fdca26\"],[1.0,\"#f0f921\"]]}],\"choropleth\":[{\"type\":\"choropleth\",\"colorbar\":{\"outlinewidth\":0,\"ticks\":\"\"}}],\"histogram2d\":[{\"type\":\"histogram2d\",\"colorbar\":{\"outlinewidth\":0,\"ticks\":\"\"},\"colorscale\":[[0.0,\"#0d0887\"],[0.1111111111111111,\"#46039f\"],[0.2222222222222222,\"#7201a8\"],[0.3333333333333333,\"#9c179e\"],[0.4444444444444444,\"#bd3786\"],[0.5555555555555556,\"#d8576b\"],[0.6666666666666666,\"#ed7953\"],[0.7777777777777778,\"#fb9f3a\"],[0.8888888888888888,\"#fdca26\"],[1.0,\"#f0f921\"]]}],\"heatmap\":[{\"type\":\"heatmap\",\"colorbar\":{\"outlinewidth\":0,\"ticks\":\"\"},\"colorscale\":[[0.0,\"#0d0887\"],[0.1111111111111111,\"#46039f\"],[0.2222222222222222,\"#7201a8\"],[0.3333333333333333,\"#9c179e\"],[0.4444444444444444,\"#bd3786\"],[0.5555555555555556,\"#d8576b\"],[0.6666666666666666,\"#ed7953\"],[0.7777777777777778,\"#fb9f3a\"],[0.8888888888888888,\"#fdca26\"],[1.0,\"#f0f921\"]]}],\"heatmapgl\":[{\"type\":\"heatmapgl\",\"colorbar\":{\"outlinewidth\":0,\"ticks\":\"\"},\"colorscale\":[[0.0,\"#0d0887\"],[0.1111111111111111,\"#46039f\"],[0.2222222222222222,\"#7201a8\"],[0.3333333333333333,\"#9c179e\"],[0.4444444444444444,\"#bd3786\"],[0.5555555555555556,\"#d8576b\"],[0.6666666666666666,\"#ed7953\"],[0.7777777777777778,\"#fb9f3a\"],[0.8888888888888888,\"#fdca26\"],[1.0,\"#f0f921\"]]}],\"contourcarpet\":[{\"type\":\"contourcarpet\",\"colorbar\":{\"outlinewidth\":0,\"ticks\":\"\"}}],\"contour\":[{\"type\":\"contour\",\"colorbar\":{\"outlinewidth\":0,\"ticks\":\"\"},\"colorscale\":[[0.0,\"#0d0887\"],[0.1111111111111111,\"#46039f\"],[0.2222222222222222,\"#7201a8\"],[0.3333333333333333,\"#9c179e\"],[0.4444444444444444,\"#bd3786\"],[0.5555555555555556,\"#d8576b\"],[0.6666666666666666,\"#ed7953\"],[0.7777777777777778,\"#fb9f3a\"],[0.8888888888888888,\"#fdca26\"],[1.0,\"#f0f921\"]]}],\"surface\":[{\"type\":\"surface\",\"colorbar\":{\"outlinewidth\":0,\"ticks\":\"\"},\"colorscale\":[[0.0,\"#0d0887\"],[0.1111111111111111,\"#46039f\"],[0.2222222222222222,\"#7201a8\"],[0.3333333333333333,\"#9c179e\"],[0.4444444444444444,\"#bd3786\"],[0.5555555555555556,\"#d8576b\"],[0.6666666666666666,\"#ed7953\"],[0.7777777777777778,\"#fb9f3a\"],[0.8888888888888888,\"#fdca26\"],[1.0,\"#f0f921\"]]}],\"mesh3d\":[{\"type\":\"mesh3d\",\"colorbar\":{\"outlinewidth\":0,\"ticks\":\"\"}}],\"scatter\":[{\"fillpattern\":{\"fillmode\":\"overlay\",\"size\":10,\"solidity\":0.2},\"type\":\"scatter\"}],\"parcoords\":[{\"type\":\"parcoords\",\"line\":{\"colorbar\":{\"outlinewidth\":0,\"ticks\":\"\"}}}],\"scatterpolargl\":[{\"type\":\"scatterpolargl\",\"marker\":{\"colorbar\":{\"outlinewidth\":0,\"ticks\":\"\"}}}],\"bar\":[{\"error_x\":{\"color\":\"#2a3f5f\"},\"error_y\":{\"color\":\"#2a3f5f\"},\"marker\":{\"line\":{\"color\":\"#E5ECF6\",\"width\":0.5},\"pattern\":{\"fillmode\":\"overlay\",\"size\":10,\"solidity\":0.2}},\"type\":\"bar\"}],\"scattergeo\":[{\"type\":\"scattergeo\",\"marker\":{\"colorbar\":{\"outlinewidth\":0,\"ticks\":\"\"}}}],\"scatterpolar\":[{\"type\":\"scatterpolar\",\"marker\":{\"colorbar\":{\"outlinewidth\":0,\"ticks\":\"\"}}}],\"histogram\":[{\"marker\":{\"pattern\":{\"fillmode\":\"overlay\",\"size\":10,\"solidity\":0.2}},\"type\":\"histogram\"}],\"scattergl\":[{\"type\":\"scattergl\",\"marker\":{\"colorbar\":{\"outlinewidth\":0,\"ticks\":\"\"}}}],\"scatter3d\":[{\"type\":\"scatter3d\",\"line\":{\"colorbar\":{\"outlinewidth\":0,\"ticks\":\"\"}},\"marker\":{\"colorbar\":{\"outlinewidth\":0,\"ticks\":\"\"}}}],\"scattermapbox\":[{\"type\":\"scattermapbox\",\"marker\":{\"colorbar\":{\"outlinewidth\":0,\"ticks\":\"\"}}}],\"scatterternary\":[{\"type\":\"scatterternary\",\"marker\":{\"colorbar\":{\"outlinewidth\":0,\"ticks\":\"\"}}}],\"scattercarpet\":[{\"type\":\"scattercarpet\",\"marker\":{\"colorbar\":{\"outlinewidth\":0,\"ticks\":\"\"}}}],\"carpet\":[{\"aaxis\":{\"endlinecolor\":\"#2a3f5f\",\"gridcolor\":\"white\",\"linecolor\":\"white\",\"minorgridcolor\":\"white\",\"startlinecolor\":\"#2a3f5f\"},\"baxis\":{\"endlinecolor\":\"#2a3f5f\",\"gridcolor\":\"white\",\"linecolor\":\"white\",\"minorgridcolor\":\"white\",\"startlinecolor\":\"#2a3f5f\"},\"type\":\"carpet\"}],\"table\":[{\"cells\":{\"fill\":{\"color\":\"#EBF0F8\"},\"line\":{\"color\":\"white\"}},\"header\":{\"fill\":{\"color\":\"#C8D4E3\"},\"line\":{\"color\":\"white\"}},\"type\":\"table\"}],\"barpolar\":[{\"marker\":{\"line\":{\"color\":\"#E5ECF6\",\"width\":0.5},\"pattern\":{\"fillmode\":\"overlay\",\"size\":10,\"solidity\":0.2}},\"type\":\"barpolar\"}],\"pie\":[{\"automargin\":true,\"type\":\"pie\"}]},\"layout\":{\"autotypenumbers\":\"strict\",\"colorway\":[\"#636efa\",\"#EF553B\",\"#00cc96\",\"#ab63fa\",\"#FFA15A\",\"#19d3f3\",\"#FF6692\",\"#B6E880\",\"#FF97FF\",\"#FECB52\"],\"font\":{\"color\":\"#2a3f5f\"},\"hovermode\":\"closest\",\"hoverlabel\":{\"align\":\"left\"},\"paper_bgcolor\":\"white\",\"plot_bgcolor\":\"#E5ECF6\",\"polar\":{\"bgcolor\":\"#E5ECF6\",\"angularaxis\":{\"gridcolor\":\"white\",\"linecolor\":\"white\",\"ticks\":\"\"},\"radialaxis\":{\"gridcolor\":\"white\",\"linecolor\":\"white\",\"ticks\":\"\"}},\"ternary\":{\"bgcolor\":\"#E5ECF6\",\"aaxis\":{\"gridcolor\":\"white\",\"linecolor\":\"white\",\"ticks\":\"\"},\"baxis\":{\"gridcolor\":\"white\",\"linecolor\":\"white\",\"ticks\":\"\"},\"caxis\":{\"gridcolor\":\"white\",\"linecolor\":\"white\",\"ticks\":\"\"}},\"coloraxis\":{\"colorbar\":{\"outlinewidth\":0,\"ticks\":\"\"}},\"colorscale\":{\"sequential\":[[0.0,\"#0d0887\"],[0.1111111111111111,\"#46039f\"],[0.2222222222222222,\"#7201a8\"],[0.3333333333333333,\"#9c179e\"],[0.4444444444444444,\"#bd3786\"],[0.5555555555555556,\"#d8576b\"],[0.6666666666666666,\"#ed7953\"],[0.7777777777777778,\"#fb9f3a\"],[0.8888888888888888,\"#fdca26\"],[1.0,\"#f0f921\"]],\"sequentialminus\":[[0.0,\"#0d0887\"],[0.1111111111111111,\"#46039f\"],[0.2222222222222222,\"#7201a8\"],[0.3333333333333333,\"#9c179e\"],[0.4444444444444444,\"#bd3786\"],[0.5555555555555556,\"#d8576b\"],[0.6666666666666666,\"#ed7953\"],[0.7777777777777778,\"#fb9f3a\"],[0.8888888888888888,\"#fdca26\"],[1.0,\"#f0f921\"]],\"diverging\":[[0,\"#8e0152\"],[0.1,\"#c51b7d\"],[0.2,\"#de77ae\"],[0.3,\"#f1b6da\"],[0.4,\"#fde0ef\"],[0.5,\"#f7f7f7\"],[0.6,\"#e6f5d0\"],[0.7,\"#b8e186\"],[0.8,\"#7fbc41\"],[0.9,\"#4d9221\"],[1,\"#276419\"]]},\"xaxis\":{\"gridcolor\":\"white\",\"linecolor\":\"white\",\"ticks\":\"\",\"title\":{\"standoff\":15},\"zerolinecolor\":\"white\",\"automargin\":true,\"zerolinewidth\":2},\"yaxis\":{\"gridcolor\":\"white\",\"linecolor\":\"white\",\"ticks\":\"\",\"title\":{\"standoff\":15},\"zerolinecolor\":\"white\",\"automargin\":true,\"zerolinewidth\":2},\"scene\":{\"xaxis\":{\"backgroundcolor\":\"#E5ECF6\",\"gridcolor\":\"white\",\"linecolor\":\"white\",\"showbackground\":true,\"ticks\":\"\",\"zerolinecolor\":\"white\",\"gridwidth\":2},\"yaxis\":{\"backgroundcolor\":\"#E5ECF6\",\"gridcolor\":\"white\",\"linecolor\":\"white\",\"showbackground\":true,\"ticks\":\"\",\"zerolinecolor\":\"white\",\"gridwidth\":2},\"zaxis\":{\"backgroundcolor\":\"#E5ECF6\",\"gridcolor\":\"white\",\"linecolor\":\"white\",\"showbackground\":true,\"ticks\":\"\",\"zerolinecolor\":\"white\",\"gridwidth\":2}},\"shapedefaults\":{\"line\":{\"color\":\"#2a3f5f\"}},\"annotationdefaults\":{\"arrowcolor\":\"#2a3f5f\",\"arrowhead\":0,\"arrowwidth\":1},\"geo\":{\"bgcolor\":\"white\",\"landcolor\":\"#E5ECF6\",\"subunitcolor\":\"white\",\"showland\":true,\"showlakes\":true,\"lakecolor\":\"white\"},\"title\":{\"x\":0.05},\"mapbox\":{\"style\":\"light\"}}},\"xaxis\":{\"anchor\":\"y\",\"domain\":[0.0,1.0],\"title\":{\"text\":\"1. \\u062a\\u0639\\u062a\\u0628\\u0631 \\u0627\\u0644\\u0635\\u0627\\u062f\\u0631\\u0627\\u062a \\u0645\\u0646 \\u0623\\u0647\\u0645 \\u0631\\u0643\\u0627\\u0626\\u0632 \\u0627\\u0644\\u0627\\u0642\\u062a\\u0635\\u0627\\u062f \\u0627\\u0644\\u0642\\u0648\\u0645\\u064a.\"}},\"yaxis\":{\"anchor\":\"x\",\"domain\":[0.0,1.0],\"title\":{\"text\":\"count\"}},\"legend\":{\"tracegroupgap\":0},\"margin\":{\"t\":60},\"barmode\":\"relative\"},                        {\"responsive\": true}                    ).then(function(){\n",
       "                            \n",
       "var gd = document.getElementById('af8c06e4-99ce-4fa6-88fa-c5fafd7c9e8d');\n",
       "var x = new MutationObserver(function (mutations, observer) {{\n",
       "        var display = window.getComputedStyle(gd).display;\n",
       "        if (!display || display === 'none') {{\n",
       "            console.log([gd, 'removed!']);\n",
       "            Plotly.purge(gd);\n",
       "            observer.disconnect();\n",
       "        }}\n",
       "}});\n",
       "\n",
       "// Listen for the removal of the full notebook cells\n",
       "var notebookContainer = gd.closest('#notebook-container');\n",
       "if (notebookContainer) {{\n",
       "    x.observe(notebookContainer, {childList: true});\n",
       "}}\n",
       "\n",
       "// Listen for the clearing of the current output cell\n",
       "var outputEl = gd.closest('.output');\n",
       "if (outputEl) {{\n",
       "    x.observe(outputEl, {childList: true});\n",
       "}}\n",
       "\n",
       "                        })                };                });            </script>        </div>"
      ]
     },
     "metadata": {},
     "output_type": "display_data"
    }
   ],
   "source": [
    "px.histogram(df,x='1. تعتبر الصادرات من أهم ركائز الاقتصاد القومي.')"
   ]
  },
  {
   "cell_type": "code",
   "execution_count": 93,
   "id": "15476f69-4897-4c4e-b19e-4efc2c90a9e3",
   "metadata": {},
   "outputs": [
    {
     "data": {
      "text/html": [
       "<div>\n",
       "<style scoped>\n",
       "    .dataframe tbody tr th:only-of-type {\n",
       "        vertical-align: middle;\n",
       "    }\n",
       "\n",
       "    .dataframe tbody tr th {\n",
       "        vertical-align: top;\n",
       "    }\n",
       "\n",
       "    .dataframe thead th {\n",
       "        text-align: right;\n",
       "    }\n",
       "</style>\n",
       "<table border=\"1\" class=\"dataframe\">\n",
       "  <thead>\n",
       "    <tr style=\"text-align: right;\">\n",
       "      <th></th>\n",
       "      <th>Date</th>\n",
       "      <th>Education_level</th>\n",
       "      <th>status</th>\n",
       "      <th>Q1</th>\n",
       "      <th>Q2</th>\n",
       "      <th>Q3</th>\n",
       "      <th>Q4</th>\n",
       "      <th>Q5</th>\n",
       "      <th>Q6</th>\n",
       "      <th>Q7</th>\n",
       "      <th>...</th>\n",
       "      <th>Q13</th>\n",
       "      <th>Q14</th>\n",
       "      <th>Q15</th>\n",
       "      <th>Q16</th>\n",
       "      <th>Q17</th>\n",
       "      <th>Q18</th>\n",
       "      <th>Q19</th>\n",
       "      <th>Q20</th>\n",
       "      <th>Q21</th>\n",
       "      <th>Q22</th>\n",
       "    </tr>\n",
       "  </thead>\n",
       "  <tbody>\n",
       "    <tr>\n",
       "      <th>count</th>\n",
       "      <td>101</td>\n",
       "      <td>101</td>\n",
       "      <td>101</td>\n",
       "      <td>101</td>\n",
       "      <td>101</td>\n",
       "      <td>101</td>\n",
       "      <td>101</td>\n",
       "      <td>101</td>\n",
       "      <td>101</td>\n",
       "      <td>101</td>\n",
       "      <td>...</td>\n",
       "      <td>101</td>\n",
       "      <td>101</td>\n",
       "      <td>101</td>\n",
       "      <td>101</td>\n",
       "      <td>101</td>\n",
       "      <td>101</td>\n",
       "      <td>101</td>\n",
       "      <td>101</td>\n",
       "      <td>101</td>\n",
       "      <td>101</td>\n",
       "    </tr>\n",
       "    <tr>\n",
       "      <th>unique</th>\n",
       "      <td>12</td>\n",
       "      <td>6</td>\n",
       "      <td>2</td>\n",
       "      <td>5</td>\n",
       "      <td>4</td>\n",
       "      <td>5</td>\n",
       "      <td>5</td>\n",
       "      <td>5</td>\n",
       "      <td>5</td>\n",
       "      <td>5</td>\n",
       "      <td>...</td>\n",
       "      <td>4</td>\n",
       "      <td>4</td>\n",
       "      <td>5</td>\n",
       "      <td>5</td>\n",
       "      <td>5</td>\n",
       "      <td>5</td>\n",
       "      <td>5</td>\n",
       "      <td>5</td>\n",
       "      <td>5</td>\n",
       "      <td>5</td>\n",
       "    </tr>\n",
       "    <tr>\n",
       "      <th>top</th>\n",
       "      <td>2024-11-07</td>\n",
       "      <td>حقوق</td>\n",
       "      <td>طالب</td>\n",
       "      <td>أوافق بشدة</td>\n",
       "      <td>أوافق بشدة</td>\n",
       "      <td>أوافق بشدة</td>\n",
       "      <td>أوافق بشدة</td>\n",
       "      <td>أوافق بشدة</td>\n",
       "      <td>أوافق بشدة</td>\n",
       "      <td>أوافق بشدة</td>\n",
       "      <td>...</td>\n",
       "      <td>أوافق بشدة</td>\n",
       "      <td>أوافق بشدة</td>\n",
       "      <td>أوافق بشدة</td>\n",
       "      <td>أوافق بشدة</td>\n",
       "      <td>أوافق</td>\n",
       "      <td>أوافق بشدة</td>\n",
       "      <td>أوافق بشدة</td>\n",
       "      <td>أوافق بشدة</td>\n",
       "      <td>أوافق بشدة</td>\n",
       "      <td>أوافق بشدة</td>\n",
       "    </tr>\n",
       "    <tr>\n",
       "      <th>freq</th>\n",
       "      <td>23</td>\n",
       "      <td>22</td>\n",
       "      <td>52</td>\n",
       "      <td>53</td>\n",
       "      <td>62</td>\n",
       "      <td>54</td>\n",
       "      <td>53</td>\n",
       "      <td>60</td>\n",
       "      <td>50</td>\n",
       "      <td>60</td>\n",
       "      <td>...</td>\n",
       "      <td>52</td>\n",
       "      <td>51</td>\n",
       "      <td>46</td>\n",
       "      <td>45</td>\n",
       "      <td>42</td>\n",
       "      <td>57</td>\n",
       "      <td>48</td>\n",
       "      <td>50</td>\n",
       "      <td>43</td>\n",
       "      <td>61</td>\n",
       "    </tr>\n",
       "  </tbody>\n",
       "</table>\n",
       "<p>4 rows × 25 columns</p>\n",
       "</div>"
      ],
      "text/plain": [
       "              Date Education_level status          Q1          Q2          Q3  \\\n",
       "count          101             101    101         101         101         101   \n",
       "unique          12               6      2           5           4           5   \n",
       "top     2024-11-07            حقوق   طالب  أوافق بشدة  أوافق بشدة  أوافق بشدة   \n",
       "freq            23              22     52          53          62          54   \n",
       "\n",
       "                Q4          Q5          Q6          Q7  ...         Q13  \\\n",
       "count          101         101         101         101  ...         101   \n",
       "unique           5           5           5           5  ...           4   \n",
       "top     أوافق بشدة  أوافق بشدة  أوافق بشدة  أوافق بشدة  ...  أوافق بشدة   \n",
       "freq            53          60          50          60  ...          52   \n",
       "\n",
       "               Q14         Q15         Q16    Q17         Q18         Q19  \\\n",
       "count          101         101         101    101         101         101   \n",
       "unique           4           5           5      5           5           5   \n",
       "top     أوافق بشدة  أوافق بشدة  أوافق بشدة  أوافق  أوافق بشدة  أوافق بشدة   \n",
       "freq            51          46          45     42          57          48   \n",
       "\n",
       "               Q20         Q21         Q22  \n",
       "count          101         101         101  \n",
       "unique           5           5           5  \n",
       "top     أوافق بشدة  أوافق بشدة  أوافق بشدة  \n",
       "freq            50          43          61  \n",
       "\n",
       "[4 rows x 25 columns]"
      ]
     },
     "execution_count": 93,
     "metadata": {},
     "output_type": "execute_result"
    }
   ],
   "source": [
    "df2.describe(include='object')"
   ]
  },
  {
   "cell_type": "code",
   "execution_count": 96,
   "id": "7bb0875b-9b9e-48f3-a37b-7fa18e657057",
   "metadata": {},
   "outputs": [
    {
     "data": {
      "text/html": [
       "<div>\n",
       "<style scoped>\n",
       "    .dataframe tbody tr th:only-of-type {\n",
       "        vertical-align: middle;\n",
       "    }\n",
       "\n",
       "    .dataframe tbody tr th {\n",
       "        vertical-align: top;\n",
       "    }\n",
       "\n",
       "    .dataframe thead th {\n",
       "        text-align: right;\n",
       "    }\n",
       "</style>\n",
       "<table border=\"1\" class=\"dataframe\">\n",
       "  <thead>\n",
       "    <tr style=\"text-align: right;\">\n",
       "      <th></th>\n",
       "      <th>ResponseID</th>\n",
       "      <th>Date</th>\n",
       "      <th>Age</th>\n",
       "      <th>Education_level</th>\n",
       "      <th>status</th>\n",
       "      <th>Q1</th>\n",
       "      <th>Q2</th>\n",
       "      <th>Q3</th>\n",
       "      <th>Q4</th>\n",
       "      <th>Q5</th>\n",
       "      <th>...</th>\n",
       "      <th>Q13</th>\n",
       "      <th>Q14</th>\n",
       "      <th>Q15</th>\n",
       "      <th>Q16</th>\n",
       "      <th>Q17</th>\n",
       "      <th>Q18</th>\n",
       "      <th>Q19</th>\n",
       "      <th>Q20</th>\n",
       "      <th>Q21</th>\n",
       "      <th>Q22</th>\n",
       "    </tr>\n",
       "  </thead>\n",
       "  <tbody>\n",
       "    <tr>\n",
       "      <th>0</th>\n",
       "      <td>1</td>\n",
       "      <td>2024-11-07</td>\n",
       "      <td>19</td>\n",
       "      <td>نظم ومعلومات</td>\n",
       "      <td>طالب</td>\n",
       "      <td>أوافق</td>\n",
       "      <td>أوافق بشدة</td>\n",
       "      <td>أوافق</td>\n",
       "      <td>محايد</td>\n",
       "      <td>ارفض بشدة</td>\n",
       "      <td>...</td>\n",
       "      <td>أوافق</td>\n",
       "      <td>أوافق بشدة</td>\n",
       "      <td>ارفض</td>\n",
       "      <td>ارفض بشدة</td>\n",
       "      <td>أوافق</td>\n",
       "      <td>أوافق</td>\n",
       "      <td>أوافق</td>\n",
       "      <td>محايد</td>\n",
       "      <td>أوافق</td>\n",
       "      <td>أوافق بشدة</td>\n",
       "    </tr>\n",
       "    <tr>\n",
       "      <th>1</th>\n",
       "      <td>2</td>\n",
       "      <td>2024-11-07</td>\n",
       "      <td>19</td>\n",
       "      <td>هندسة</td>\n",
       "      <td>طالب</td>\n",
       "      <td>أوافق</td>\n",
       "      <td>أوافق</td>\n",
       "      <td>أوافق</td>\n",
       "      <td>أوافق</td>\n",
       "      <td>أوافق بشدة</td>\n",
       "      <td>...</td>\n",
       "      <td>أوافق بشدة</td>\n",
       "      <td>أوافق</td>\n",
       "      <td>أوافق بشدة</td>\n",
       "      <td>أوافق بشدة</td>\n",
       "      <td>أوافق</td>\n",
       "      <td>محايد</td>\n",
       "      <td>أوافق</td>\n",
       "      <td>أوافق</td>\n",
       "      <td>أوافق</td>\n",
       "      <td>أوافق</td>\n",
       "    </tr>\n",
       "    <tr>\n",
       "      <th>2</th>\n",
       "      <td>3</td>\n",
       "      <td>2024-11-07</td>\n",
       "      <td>25</td>\n",
       "      <td>حقوق</td>\n",
       "      <td>خريج</td>\n",
       "      <td>أوافق</td>\n",
       "      <td>أوافق بشدة</td>\n",
       "      <td>أوافق</td>\n",
       "      <td>أوافق بشدة</td>\n",
       "      <td>محايد</td>\n",
       "      <td>...</td>\n",
       "      <td>أوافق</td>\n",
       "      <td>أوافق</td>\n",
       "      <td>أوافق</td>\n",
       "      <td>أوافق</td>\n",
       "      <td>أوافق</td>\n",
       "      <td>أوافق</td>\n",
       "      <td>أوافق</td>\n",
       "      <td>أوافق</td>\n",
       "      <td>أوافق</td>\n",
       "      <td>أوافق</td>\n",
       "    </tr>\n",
       "    <tr>\n",
       "      <th>3</th>\n",
       "      <td>4</td>\n",
       "      <td>2024-11-07</td>\n",
       "      <td>23</td>\n",
       "      <td>حقوق</td>\n",
       "      <td>خريج</td>\n",
       "      <td>أوافق بشدة</td>\n",
       "      <td>أوافق بشدة</td>\n",
       "      <td>أوافق</td>\n",
       "      <td>أوافق</td>\n",
       "      <td>أوافق</td>\n",
       "      <td>...</td>\n",
       "      <td>أوافق بشدة</td>\n",
       "      <td>أوافق بشدة</td>\n",
       "      <td>أوافق</td>\n",
       "      <td>أوافق</td>\n",
       "      <td>أوافق بشدة</td>\n",
       "      <td>أوافق</td>\n",
       "      <td>أوافق</td>\n",
       "      <td>أوافق</td>\n",
       "      <td>أوافق</td>\n",
       "      <td>أوافق</td>\n",
       "    </tr>\n",
       "    <tr>\n",
       "      <th>4</th>\n",
       "      <td>5</td>\n",
       "      <td>2024-11-07</td>\n",
       "      <td>23</td>\n",
       "      <td>اداب</td>\n",
       "      <td>خريج</td>\n",
       "      <td>أوافق بشدة</td>\n",
       "      <td>أوافق بشدة</td>\n",
       "      <td>أوافق</td>\n",
       "      <td>أوافق بشدة</td>\n",
       "      <td>أوافق بشدة</td>\n",
       "      <td>...</td>\n",
       "      <td>أوافق بشدة</td>\n",
       "      <td>أوافق بشدة</td>\n",
       "      <td>أوافق بشدة</td>\n",
       "      <td>أوافق بشدة</td>\n",
       "      <td>أوافق بشدة</td>\n",
       "      <td>أوافق بشدة</td>\n",
       "      <td>أوافق بشدة</td>\n",
       "      <td>أوافق بشدة</td>\n",
       "      <td>أوافق</td>\n",
       "      <td>أوافق بشدة</td>\n",
       "    </tr>\n",
       "    <tr>\n",
       "      <th>...</th>\n",
       "      <td>...</td>\n",
       "      <td>...</td>\n",
       "      <td>...</td>\n",
       "      <td>...</td>\n",
       "      <td>...</td>\n",
       "      <td>...</td>\n",
       "      <td>...</td>\n",
       "      <td>...</td>\n",
       "      <td>...</td>\n",
       "      <td>...</td>\n",
       "      <td>...</td>\n",
       "      <td>...</td>\n",
       "      <td>...</td>\n",
       "      <td>...</td>\n",
       "      <td>...</td>\n",
       "      <td>...</td>\n",
       "      <td>...</td>\n",
       "      <td>...</td>\n",
       "      <td>...</td>\n",
       "      <td>...</td>\n",
       "      <td>...</td>\n",
       "    </tr>\n",
       "    <tr>\n",
       "      <th>96</th>\n",
       "      <td>97</td>\n",
       "      <td>2024-12-03</td>\n",
       "      <td>22</td>\n",
       "      <td>حقوق</td>\n",
       "      <td>خريج</td>\n",
       "      <td>أوافق</td>\n",
       "      <td>أوافق</td>\n",
       "      <td>محايد</td>\n",
       "      <td>أوافق بشدة</td>\n",
       "      <td>أوافق بشدة</td>\n",
       "      <td>...</td>\n",
       "      <td>أوافق بشدة</td>\n",
       "      <td>أوافق بشدة</td>\n",
       "      <td>أوافق بشدة</td>\n",
       "      <td>أوافق بشدة</td>\n",
       "      <td>محايد</td>\n",
       "      <td>أوافق بشدة</td>\n",
       "      <td>محايد</td>\n",
       "      <td>أوافق بشدة</td>\n",
       "      <td>أوافق</td>\n",
       "      <td>أوافق بشدة</td>\n",
       "    </tr>\n",
       "    <tr>\n",
       "      <th>97</th>\n",
       "      <td>98</td>\n",
       "      <td>2024-12-03</td>\n",
       "      <td>24</td>\n",
       "      <td>هندسة</td>\n",
       "      <td>خريج</td>\n",
       "      <td>أوافق بشدة</td>\n",
       "      <td>أوافق</td>\n",
       "      <td>أوافق بشدة</td>\n",
       "      <td>أوافق بشدة</td>\n",
       "      <td>أوافق بشدة</td>\n",
       "      <td>...</td>\n",
       "      <td>أوافق بشدة</td>\n",
       "      <td>أوافق بشدة</td>\n",
       "      <td>أوافق</td>\n",
       "      <td>محايد</td>\n",
       "      <td>أوافق</td>\n",
       "      <td>محايد</td>\n",
       "      <td>أوافق</td>\n",
       "      <td>محايد</td>\n",
       "      <td>أوافق</td>\n",
       "      <td>أوافق</td>\n",
       "    </tr>\n",
       "    <tr>\n",
       "      <th>98</th>\n",
       "      <td>99</td>\n",
       "      <td>2024-12-03</td>\n",
       "      <td>20</td>\n",
       "      <td>حاسبات</td>\n",
       "      <td>طالب</td>\n",
       "      <td>أوافق</td>\n",
       "      <td>أوافق</td>\n",
       "      <td>أوافق بشدة</td>\n",
       "      <td>أوافق بشدة</td>\n",
       "      <td>أوافق</td>\n",
       "      <td>...</td>\n",
       "      <td>أوافق بشدة</td>\n",
       "      <td>أوافق بشدة</td>\n",
       "      <td>أوافق</td>\n",
       "      <td>محايد</td>\n",
       "      <td>محايد</td>\n",
       "      <td>أوافق</td>\n",
       "      <td>أوافق بشدة</td>\n",
       "      <td>أوافق</td>\n",
       "      <td>أوافق بشدة</td>\n",
       "      <td>محايد</td>\n",
       "    </tr>\n",
       "    <tr>\n",
       "      <th>99</th>\n",
       "      <td>100</td>\n",
       "      <td>2024-12-03</td>\n",
       "      <td>26</td>\n",
       "      <td>حقوق</td>\n",
       "      <td>خريج</td>\n",
       "      <td>أوافق بشدة</td>\n",
       "      <td>أوافق بشدة</td>\n",
       "      <td>أوافق بشدة</td>\n",
       "      <td>أوافق</td>\n",
       "      <td>أوافق بشدة</td>\n",
       "      <td>...</td>\n",
       "      <td>أوافق بشدة</td>\n",
       "      <td>أوافق بشدة</td>\n",
       "      <td>أوافق بشدة</td>\n",
       "      <td>ارفض</td>\n",
       "      <td>محايد</td>\n",
       "      <td>أوافق بشدة</td>\n",
       "      <td>أوافق</td>\n",
       "      <td>أوافق</td>\n",
       "      <td>أوافق بشدة</td>\n",
       "      <td>أوافق بشدة</td>\n",
       "    </tr>\n",
       "    <tr>\n",
       "      <th>100</th>\n",
       "      <td>101</td>\n",
       "      <td>2024-12-03</td>\n",
       "      <td>21</td>\n",
       "      <td>تجارة</td>\n",
       "      <td>طالب</td>\n",
       "      <td>أوافق</td>\n",
       "      <td>أوافق بشدة</td>\n",
       "      <td>أوافق</td>\n",
       "      <td>أوافق</td>\n",
       "      <td>أوافق بشدة</td>\n",
       "      <td>...</td>\n",
       "      <td>أوافق بشدة</td>\n",
       "      <td>أوافق بشدة</td>\n",
       "      <td>ارفض</td>\n",
       "      <td>أوافق</td>\n",
       "      <td>أوافق بشدة</td>\n",
       "      <td>أوافق بشدة</td>\n",
       "      <td>أوافق بشدة</td>\n",
       "      <td>أوافق</td>\n",
       "      <td>أوافق بشدة</td>\n",
       "      <td>محايد</td>\n",
       "    </tr>\n",
       "  </tbody>\n",
       "</table>\n",
       "<p>101 rows × 27 columns</p>\n",
       "</div>"
      ],
      "text/plain": [
       "     ResponseID        Date  Age Education_level status          Q1  \\\n",
       "0             1  2024-11-07   19    نظم ومعلومات   طالب       أوافق   \n",
       "1             2  2024-11-07   19           هندسة   طالب       أوافق   \n",
       "2             3  2024-11-07   25            حقوق   خريج       أوافق   \n",
       "3             4  2024-11-07   23            حقوق   خريج  أوافق بشدة   \n",
       "4             5  2024-11-07   23            اداب   خريج  أوافق بشدة   \n",
       "..          ...         ...  ...             ...    ...         ...   \n",
       "96           97  2024-12-03   22            حقوق   خريج       أوافق   \n",
       "97           98  2024-12-03   24           هندسة   خريج  أوافق بشدة   \n",
       "98           99  2024-12-03   20          حاسبات   طالب       أوافق   \n",
       "99          100  2024-12-03   26            حقوق   خريج  أوافق بشدة   \n",
       "100         101  2024-12-03   21           تجارة   طالب       أوافق   \n",
       "\n",
       "             Q2          Q3          Q4          Q5  ...         Q13  \\\n",
       "0    أوافق بشدة       أوافق       محايد   ارفض بشدة  ...       أوافق   \n",
       "1         أوافق       أوافق       أوافق  أوافق بشدة  ...  أوافق بشدة   \n",
       "2    أوافق بشدة       أوافق  أوافق بشدة       محايد  ...       أوافق   \n",
       "3    أوافق بشدة       أوافق       أوافق       أوافق  ...  أوافق بشدة   \n",
       "4    أوافق بشدة       أوافق  أوافق بشدة  أوافق بشدة  ...  أوافق بشدة   \n",
       "..          ...         ...         ...         ...  ...         ...   \n",
       "96        أوافق       محايد  أوافق بشدة  أوافق بشدة  ...  أوافق بشدة   \n",
       "97        أوافق  أوافق بشدة  أوافق بشدة  أوافق بشدة  ...  أوافق بشدة   \n",
       "98        أوافق  أوافق بشدة  أوافق بشدة       أوافق  ...  أوافق بشدة   \n",
       "99   أوافق بشدة  أوافق بشدة       أوافق  أوافق بشدة  ...  أوافق بشدة   \n",
       "100  أوافق بشدة       أوافق       أوافق  أوافق بشدة  ...  أوافق بشدة   \n",
       "\n",
       "            Q14         Q15         Q16         Q17         Q18         Q19  \\\n",
       "0    أوافق بشدة        ارفض   ارفض بشدة       أوافق       أوافق       أوافق   \n",
       "1         أوافق  أوافق بشدة  أوافق بشدة       أوافق       محايد       أوافق   \n",
       "2         أوافق       أوافق       أوافق       أوافق       أوافق       أوافق   \n",
       "3    أوافق بشدة       أوافق       أوافق  أوافق بشدة       أوافق       أوافق   \n",
       "4    أوافق بشدة  أوافق بشدة  أوافق بشدة  أوافق بشدة  أوافق بشدة  أوافق بشدة   \n",
       "..          ...         ...         ...         ...         ...         ...   \n",
       "96   أوافق بشدة  أوافق بشدة  أوافق بشدة       محايد  أوافق بشدة       محايد   \n",
       "97   أوافق بشدة       أوافق       محايد       أوافق       محايد       أوافق   \n",
       "98   أوافق بشدة       أوافق       محايد       محايد       أوافق  أوافق بشدة   \n",
       "99   أوافق بشدة  أوافق بشدة        ارفض       محايد  أوافق بشدة       أوافق   \n",
       "100  أوافق بشدة        ارفض       أوافق  أوافق بشدة  أوافق بشدة  أوافق بشدة   \n",
       "\n",
       "            Q20         Q21         Q22  \n",
       "0         محايد       أوافق  أوافق بشدة  \n",
       "1         أوافق       أوافق       أوافق  \n",
       "2         أوافق       أوافق       أوافق  \n",
       "3         أوافق       أوافق       أوافق  \n",
       "4    أوافق بشدة       أوافق  أوافق بشدة  \n",
       "..          ...         ...         ...  \n",
       "96   أوافق بشدة       أوافق  أوافق بشدة  \n",
       "97        محايد       أوافق       أوافق  \n",
       "98        أوافق  أوافق بشدة       محايد  \n",
       "99        أوافق  أوافق بشدة  أوافق بشدة  \n",
       "100       أوافق  أوافق بشدة       محايد  \n",
       "\n",
       "[101 rows x 27 columns]"
      ]
     },
     "execution_count": 96,
     "metadata": {},
     "output_type": "execute_result"
    }
   ],
   "source": [
    "df2"
   ]
  },
  {
   "cell_type": "code",
   "execution_count": 98,
   "id": "3a4f8f24-9416-408f-80ef-0fb0ad0ce517",
   "metadata": {},
   "outputs": [],
   "source": [
    "df2.to_csv('Questionnaire.csv',index = False)"
   ]
  },
  {
   "cell_type": "code",
   "execution_count": 99,
   "id": "837cff9a-6597-4084-8dd2-bc2b72138a01",
   "metadata": {},
   "outputs": [
    {
     "data": {
      "text/plain": [
       "Index(['ResponseID', 'Date', 'Age', 'Education_level', 'status', 'Q1', 'Q2',\n",
       "       'Q3', 'Q4', 'Q5', 'Q6', 'Q7', 'Q8', 'Q9', 'Q10', 'Q11', 'Q12', 'Q13',\n",
       "       'Q14', 'Q15', 'Q16', 'Q17', 'Q18', 'Q19', 'Q20', 'Q21', 'Q22'],\n",
       "      dtype='object')"
      ]
     },
     "execution_count": 99,
     "metadata": {},
     "output_type": "execute_result"
    }
   ],
   "source": [
    "df2.columns"
   ]
  },
  {
   "cell_type": "code",
   "execution_count": 128,
   "id": "57bf2e7b-fa81-400b-b7a9-a51e34eb4b50",
   "metadata": {},
   "outputs": [],
   "source": [
    "all_data = []\n",
    "for column in df2.columns[6:] :\n",
    "    all_data+= [i for i in df2[column]]"
   ]
  },
  {
   "cell_type": "code",
   "execution_count": 138,
   "id": "bb4eb241-f827-41ee-91ed-9735a3e2b569",
   "metadata": {},
   "outputs": [
    {
     "data": {
      "text/plain": [
       "array(['أوافق', 'أوافق بشدة', 'محايد', 'ارفض بشدة', 'ارفض'], dtype=object)"
      ]
     },
     "execution_count": 138,
     "metadata": {},
     "output_type": "execute_result"
    }
   ],
   "source": [
    "df2['Q1'].unique()"
   ]
  },
  {
   "cell_type": "code",
   "execution_count": 132,
   "id": "709781d8-03d3-4a4b-b054-85dc99069c5a",
   "metadata": {},
   "outputs": [],
   "source": [
    "index = range(1,len(all_data)+1)"
   ]
  },
  {
   "cell_type": "code",
   "execution_count": 133,
   "id": "4e2db7fc-6569-4b6f-aa0d-0e894793d875",
   "metadata": {},
   "outputs": [],
   "source": [
    "data = {'index':index,'votes':all_data}"
   ]
  },
  {
   "cell_type": "code",
   "execution_count": 141,
   "id": "57ef529a-4d47-4549-a5e3-1d59b5a6bde9",
   "metadata": {},
   "outputs": [],
   "source": [
    "pd.DataFrame"
   ]
  },
  {
   "cell_type": "code",
   "execution_count": 140,
   "id": "691a42f5-4b2f-4722-81e2-1c1cb21c350a",
   "metadata": {},
   "outputs": [],
   "source": [
    "df3 = pd.DataFrame(data)"
   ]
  },
  {
   "cell_type": "code",
   "execution_count": 143,
   "id": "607cd0fa-f3b3-4614-933f-eb675d90873a",
   "metadata": {},
   "outputs": [],
   "source": [
    "df3['votes'] = df3['votes'].apply(votes_edit)"
   ]
  },
  {
   "cell_type": "code",
   "execution_count": 144,
   "id": "a5d5449c-fc02-4e81-8030-3bd1a25b73f7",
   "metadata": {},
   "outputs": [
    {
     "data": {
      "text/plain": [
       "array(['اوافق', 'محايد', 'ارفض'], dtype=object)"
      ]
     },
     "execution_count": 144,
     "metadata": {},
     "output_type": "execute_result"
    }
   ],
   "source": [
    "df3['votes'].unique()"
   ]
  },
  {
   "cell_type": "code",
   "execution_count": 145,
   "id": "e5c7d3a1-ff5a-4e4d-9f3b-86967351fdde",
   "metadata": {},
   "outputs": [
    {
     "data": {
      "text/plain": [
       "(2121, 2)"
      ]
     },
     "execution_count": 145,
     "metadata": {},
     "output_type": "execute_result"
    }
   ],
   "source": [
    "df3.shape"
   ]
  },
  {
   "cell_type": "code",
   "execution_count": null,
   "id": "8cb2535c-77b0-4913-8228-7ceceaa6b595",
   "metadata": {},
   "outputs": [],
   "source": []
  }
 ],
 "metadata": {
  "kernelspec": {
   "display_name": "Python 3 (ipykernel)",
   "language": "python",
   "name": "python3"
  },
  "language_info": {
   "codemirror_mode": {
    "name": "ipython",
    "version": 3
   },
   "file_extension": ".py",
   "mimetype": "text/x-python",
   "name": "python",
   "nbconvert_exporter": "python",
   "pygments_lexer": "ipython3",
   "version": "3.11.8"
  }
 },
 "nbformat": 4,
 "nbformat_minor": 5
}
